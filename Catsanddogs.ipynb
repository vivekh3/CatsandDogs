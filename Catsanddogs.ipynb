{
 "cells": [
  {
   "cell_type": "code",
   "execution_count": 16,
   "metadata": {},
   "outputs": [],
   "source": [
    "import os\n",
    "import numpy as np\n",
    "import cv2\n",
    "from tqdm import tqdm"
   ]
  },
  {
   "cell_type": "code",
   "execution_count": 17,
   "metadata": {},
   "outputs": [],
   "source": [
    "CATS='PetImages/Cat'\n",
    "DOGS='PetImages/Dog'\n",
    "LABELS={CATS:0,DOGS:1}\n",
    "SIZE=50\n",
    "training_data=[]\n",
    "catcount=0\n",
    "dogcount=0"
   ]
  },
  {
   "cell_type": "code",
   "execution_count": 18,
   "metadata": {},
   "outputs": [
    {
     "name": "stderr",
     "output_type": "stream",
     "text": [
      "  1%|          | 91/12501 [00:00<00:13, 908.25it/s]"
     ]
    },
    {
     "name": "stdout",
     "output_type": "stream",
     "text": [
      "PetImages/Cat\n"
     ]
    },
    {
     "name": "stderr",
     "output_type": "stream",
     "text": [
      "100%|██████████| 12501/12501 [00:12<00:00, 982.47it/s] \n",
      "  1%|          | 85/12501 [00:00<00:14, 846.54it/s]"
     ]
    },
    {
     "name": "stdout",
     "output_type": "stream",
     "text": [
      "PetImages/Dog\n"
     ]
    },
    {
     "name": "stderr",
     "output_type": "stream",
     "text": [
      "100%|██████████| 12501/12501 [00:13<00:00, 928.05it/s]\n"
     ]
    },
    {
     "name": "stdout",
     "output_type": "stream",
     "text": [
      "Number of Cats 12476\n",
      "Number of Dogs 12470\n"
     ]
    }
   ],
   "source": [
    "for label in LABELS:\n",
    "    print(label)\n",
    "    for f in tqdm(os.listdir(label)):\n",
    "        if \"jpg\" in f:\n",
    "            try:\n",
    "                path=os.path.join(label,f)\n",
    "                img=cv2.imread(path,cv2.IMREAD_GRAYSCALE)\n",
    "                img=cv2.resize(img,(SIZE,SIZE))\n",
    "                training_data.append([np.array(img),np.eye(2)[LABELS[label]]])\n",
    "                if label==CATS:\n",
    "                    catcount+=1\n",
    "                elif label==DOGS:\n",
    "                    dogcount+=1\n",
    "                \n",
    "            except Exception as e:\n",
    "                pass\n",
    "            \n",
    "np.random.shuffle(training_data)\n",
    "np.save('training_data.npy',training_data)\n",
    "print ('Number of Cats',catcount)\n",
    "print ('Number of Dogs',dogcount)\n",
    "            "
   ]
  },
  {
   "cell_type": "code",
   "execution_count": null,
   "metadata": {},
   "outputs": [],
   "source": []
  }
 ],
 "metadata": {
  "kernelspec": {
   "display_name": "Python 3",
   "language": "python",
   "name": "python3"
  },
  "language_info": {
   "codemirror_mode": {
    "name": "ipython",
    "version": 3
   },
   "file_extension": ".py",
   "mimetype": "text/x-python",
   "name": "python",
   "nbconvert_exporter": "python",
   "pygments_lexer": "ipython3",
   "version": "3.7.4"
  }
 },
 "nbformat": 4,
 "nbformat_minor": 2
}
